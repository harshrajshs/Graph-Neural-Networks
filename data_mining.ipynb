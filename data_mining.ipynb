{
  "metadata": {
    "kernelspec": {
      "name": "python3",
      "display_name": "Python 3",
      "language": "python"
    },
    "language_info": {
      "name": "python",
      "version": "3.10.13",
      "mimetype": "text/x-python",
      "codemirror_mode": {
        "name": "ipython",
        "version": 3
      },
      "pygments_lexer": "ipython3",
      "nbconvert_exporter": "python",
      "file_extension": ".py"
    },
    "kaggle": {
      "accelerator": "gpu",
      "dataSources": [
        {
          "sourceId": 8239792,
          "sourceType": "datasetVersion",
          "datasetId": 4887789
        }
      ],
      "dockerImageVersionId": 30699,
      "isInternetEnabled": true,
      "language": "python",
      "sourceType": "notebook",
      "isGpuEnabled": true
    },
    "colab": {
      "provenance": []
    }
  },
  "nbformat_minor": 5,
  "nbformat": 4,
  "cells": [
    {
      "cell_type": "markdown",
      "source": [
        "### **`DA324 - Data Mining Project`**"
      ],
      "metadata": {
        "id": "HTbThhp8bGRV"
      },
      "id": "HTbThhp8bGRV"
    },
    {
      "cell_type": "code",
      "source": [
        "import pandas as pd\n",
        "import numpy as np\n",
        "import matplotlib.pyplot as plt\n",
        "from sklearn.manifold import SpectralEmbedding, LocallyLinearEmbedding, Isomap, MDS, TSNE\n",
        "import torch\n",
        "import torch.nn as nn\n",
        "import torch.optim as optim\n",
        "import torch.nn.functional as F\n",
        "from torch.utils.data import DataLoader, TensorDataset\n",
        "import numpy as np\n",
        "from sklearn.preprocessing import StandardScaler\n",
        "from sklearn.decomposition import PCA\n",
        "from sklearn.cluster import KMeans"
      ],
      "metadata": {
        "execution": {
          "iopub.status.busy": "2024-05-10T09:46:20.139832Z",
          "iopub.execute_input": "2024-05-10T09:46:20.140211Z",
          "iopub.status.idle": "2024-05-10T09:46:20.146374Z",
          "shell.execute_reply.started": "2024-05-10T09:46:20.140183Z",
          "shell.execute_reply": "2024-05-10T09:46:20.145419Z"
        },
        "trusted": true,
        "id": "z_CkPIGNbGRb"
      },
      "execution_count": null,
      "outputs": [],
      "id": "z_CkPIGNbGRb"
    },
    {
      "cell_type": "code",
      "source": [
        "adjacency = pd.read_csv('/kaggle/input/graph-nodes-data/adjacency.csv')\n",
        "attributes = pd.read_excel('/kaggle/input/graph-nodes-data/attributes.xlsx')\n",
        "seeds = pd.read_excel('/kaggle/input/graph-nodes-data/seed.xlsx')"
      ],
      "metadata": {
        "execution": {
          "iopub.status.busy": "2024-05-10T09:46:20.324680Z",
          "iopub.execute_input": "2024-05-10T09:46:20.325482Z",
          "iopub.status.idle": "2024-05-10T09:47:13.018026Z",
          "shell.execute_reply.started": "2024-05-10T09:46:20.325453Z",
          "shell.execute_reply": "2024-05-10T09:47:13.017202Z"
        },
        "trusted": true,
        "id": "pP-1CF9TbGRi"
      },
      "execution_count": null,
      "outputs": [],
      "id": "pP-1CF9TbGRi"
    },
    {
      "cell_type": "code",
      "source": [
        "print(f\"adjacency.index = {adjacency.index}\")\n",
        "print(f\"adjacency.columns = {adjacency.columns}\")\n",
        "# As columns name are in str format so changing it to int so that we can use it simply.\n",
        "adjacency.columns = adjacency.columns.astype(int)"
      ],
      "metadata": {
        "execution": {
          "iopub.status.busy": "2024-05-10T09:47:13.019569Z",
          "iopub.execute_input": "2024-05-10T09:47:13.019901Z",
          "iopub.status.idle": "2024-05-10T09:47:13.027936Z",
          "shell.execute_reply.started": "2024-05-10T09:47:13.019874Z",
          "shell.execute_reply": "2024-05-10T09:47:13.026977Z"
        },
        "trusted": true,
        "id": "3FWv3a2_bGRk",
        "outputId": "49d92248-6fc6-4174-b97a-bf85ed308553"
      },
      "execution_count": null,
      "outputs": [
        {
          "name": "stdout",
          "text": "adjacency.index = RangeIndex(start=0, stop=11952, step=1)\nadjacency.columns = Index(['0', '1', '2', '3', '4', '5', '6', '7', '8', '9',\n       ...\n       '11942', '11943', '11944', '11945', '11946', '11947', '11948', '11949',\n       '11950', '11951'],\n      dtype='object', length=11952)\n",
          "output_type": "stream"
        }
      ],
      "id": "3FWv3a2_bGRk"
    },
    {
      "cell_type": "code",
      "source": [
        "adjacency.head()"
      ],
      "metadata": {
        "execution": {
          "iopub.status.busy": "2024-05-10T09:47:13.029102Z",
          "iopub.execute_input": "2024-05-10T09:47:13.029379Z",
          "iopub.status.idle": "2024-05-10T09:47:13.050607Z",
          "shell.execute_reply.started": "2024-05-10T09:47:13.029354Z",
          "shell.execute_reply": "2024-05-10T09:47:13.049679Z"
        },
        "trusted": true,
        "id": "am9boYBGbGRo",
        "outputId": "f6060a30-833d-486a-d0fb-8b7e82f80580"
      },
      "execution_count": null,
      "outputs": [
        {
          "execution_count": 101,
          "output_type": "execute_result",
          "data": {
            "text/plain": "   0      1      2      3      4      5      6      7      8      9      ...  \\\n0      0      1      0      0      1      1      0      0      0      0  ...   \n1      1      0      0      0      1      0      1      1      0      1  ...   \n2      0      0      0      0      0      1      0      0      0      1  ...   \n3      0      0      0      0      1      0      0      0      1      1  ...   \n4      1      1      0      1      0      0      0      0      1      1  ...   \n\n   11942  11943  11944  11945  11946  11947  11948  11949  11950  11951  \n0      1      1      1      1      1      1      0      0      1      1  \n1      1      1      1      1      1      1      1      0      1      1  \n2      0      0      1      1      1      0      0      0      0      1  \n3      1      0      0      0      0      1      0      1      1      1  \n4      1      1      1      0      1      1      0      1      1      1  \n\n[5 rows x 11952 columns]",
            "text/html": "<div>\n<style scoped>\n    .dataframe tbody tr th:only-of-type {\n        vertical-align: middle;\n    }\n\n    .dataframe tbody tr th {\n        vertical-align: top;\n    }\n\n    .dataframe thead th {\n        text-align: right;\n    }\n</style>\n<table border=\"1\" class=\"dataframe\">\n  <thead>\n    <tr style=\"text-align: right;\">\n      <th></th>\n      <th>0</th>\n      <th>1</th>\n      <th>2</th>\n      <th>3</th>\n      <th>4</th>\n      <th>5</th>\n      <th>6</th>\n      <th>7</th>\n      <th>8</th>\n      <th>9</th>\n      <th>...</th>\n      <th>11942</th>\n      <th>11943</th>\n      <th>11944</th>\n      <th>11945</th>\n      <th>11946</th>\n      <th>11947</th>\n      <th>11948</th>\n      <th>11949</th>\n      <th>11950</th>\n      <th>11951</th>\n    </tr>\n  </thead>\n  <tbody>\n    <tr>\n      <th>0</th>\n      <td>0</td>\n      <td>1</td>\n      <td>0</td>\n      <td>0</td>\n      <td>1</td>\n      <td>1</td>\n      <td>0</td>\n      <td>0</td>\n      <td>0</td>\n      <td>0</td>\n      <td>...</td>\n      <td>1</td>\n      <td>1</td>\n      <td>1</td>\n      <td>1</td>\n      <td>1</td>\n      <td>1</td>\n      <td>0</td>\n      <td>0</td>\n      <td>1</td>\n      <td>1</td>\n    </tr>\n    <tr>\n      <th>1</th>\n      <td>1</td>\n      <td>0</td>\n      <td>0</td>\n      <td>0</td>\n      <td>1</td>\n      <td>0</td>\n      <td>1</td>\n      <td>1</td>\n      <td>0</td>\n      <td>1</td>\n      <td>...</td>\n      <td>1</td>\n      <td>1</td>\n      <td>1</td>\n      <td>1</td>\n      <td>1</td>\n      <td>1</td>\n      <td>1</td>\n      <td>0</td>\n      <td>1</td>\n      <td>1</td>\n    </tr>\n    <tr>\n      <th>2</th>\n      <td>0</td>\n      <td>0</td>\n      <td>0</td>\n      <td>0</td>\n      <td>0</td>\n      <td>1</td>\n      <td>0</td>\n      <td>0</td>\n      <td>0</td>\n      <td>1</td>\n      <td>...</td>\n      <td>0</td>\n      <td>0</td>\n      <td>1</td>\n      <td>1</td>\n      <td>1</td>\n      <td>0</td>\n      <td>0</td>\n      <td>0</td>\n      <td>0</td>\n      <td>1</td>\n    </tr>\n    <tr>\n      <th>3</th>\n      <td>0</td>\n      <td>0</td>\n      <td>0</td>\n      <td>0</td>\n      <td>1</td>\n      <td>0</td>\n      <td>0</td>\n      <td>0</td>\n      <td>1</td>\n      <td>1</td>\n      <td>...</td>\n      <td>1</td>\n      <td>0</td>\n      <td>0</td>\n      <td>0</td>\n      <td>0</td>\n      <td>1</td>\n      <td>0</td>\n      <td>1</td>\n      <td>1</td>\n      <td>1</td>\n    </tr>\n    <tr>\n      <th>4</th>\n      <td>1</td>\n      <td>1</td>\n      <td>0</td>\n      <td>1</td>\n      <td>0</td>\n      <td>0</td>\n      <td>0</td>\n      <td>0</td>\n      <td>1</td>\n      <td>1</td>\n      <td>...</td>\n      <td>1</td>\n      <td>1</td>\n      <td>1</td>\n      <td>0</td>\n      <td>1</td>\n      <td>1</td>\n      <td>0</td>\n      <td>1</td>\n      <td>1</td>\n      <td>1</td>\n    </tr>\n  </tbody>\n</table>\n<p>5 rows × 11952 columns</p>\n</div>"
          },
          "metadata": {}
        }
      ],
      "id": "am9boYBGbGRo"
    },
    {
      "cell_type": "code",
      "source": [
        "adjacency.info()"
      ],
      "metadata": {
        "execution": {
          "iopub.status.busy": "2024-05-10T09:47:13.053322Z",
          "iopub.execute_input": "2024-05-10T09:47:13.053681Z",
          "iopub.status.idle": "2024-05-10T09:47:13.830964Z",
          "shell.execute_reply.started": "2024-05-10T09:47:13.053649Z",
          "shell.execute_reply": "2024-05-10T09:47:13.829990Z"
        },
        "trusted": true,
        "id": "Ykbwbu61bGRr",
        "outputId": "3fbda1e3-9ef9-4632-be15-e2ff1e90cf85"
      },
      "execution_count": null,
      "outputs": [
        {
          "name": "stdout",
          "text": "<class 'pandas.core.frame.DataFrame'>\nRangeIndex: 11952 entries, 0 to 11951\nColumns: 11952 entries, 0 to 11951\ndtypes: int64(11952)\nmemory usage: 1.1 GB\n",
          "output_type": "stream"
        }
      ],
      "id": "Ykbwbu61bGRr"
    },
    {
      "cell_type": "code",
      "source": [
        "attributes.info()"
      ],
      "metadata": {
        "execution": {
          "iopub.status.busy": "2024-05-10T09:47:13.832195Z",
          "iopub.execute_input": "2024-05-10T09:47:13.832529Z",
          "iopub.status.idle": "2024-05-10T09:47:13.847734Z",
          "shell.execute_reply.started": "2024-05-10T09:47:13.832503Z",
          "shell.execute_reply": "2024-05-10T09:47:13.846683Z"
        },
        "trusted": true,
        "id": "6YbBuy5fbGRu",
        "outputId": "b0d591e0-fc72-4111-bbd3-83257337b676"
      },
      "execution_count": null,
      "outputs": [
        {
          "name": "stdout",
          "text": "<class 'pandas.core.frame.DataFrame'>\nRangeIndex: 11952 entries, 0 to 11951\nColumns: 103 entries, 0 to 102\ndtypes: float64(103)\nmemory usage: 9.4 MB\n",
          "output_type": "stream"
        }
      ],
      "id": "6YbBuy5fbGRu"
    },
    {
      "cell_type": "code",
      "source": [
        "attributes.head()"
      ],
      "metadata": {
        "execution": {
          "iopub.status.busy": "2024-05-10T09:47:13.849029Z",
          "iopub.execute_input": "2024-05-10T09:47:13.849338Z",
          "iopub.status.idle": "2024-05-10T09:47:13.879359Z",
          "shell.execute_reply.started": "2024-05-10T09:47:13.849313Z",
          "shell.execute_reply": "2024-05-10T09:47:13.878353Z"
        },
        "trusted": true,
        "id": "hB8afCwEbGRx",
        "outputId": "8bfae6da-4ad2-4d0f-c6cc-a306790efb4b"
      },
      "execution_count": null,
      "outputs": [
        {
          "execution_count": 104,
          "output_type": "execute_result",
          "data": {
            "text/plain": "      0        1       2        3        4        5        6        7    \\\n0 -6.3128 -5.58510 -3.0679  12.9880  9.00260  -5.5361  -1.0356  10.1650   \n1  1.3902 -0.44661 -3.7137 -12.8420  4.47870   4.8796   3.0049  -5.9097   \n2 -8.3044 -3.45690  6.5153 -12.0090 -6.76200  -1.2466  -5.9627   9.9527   \n3 -6.3335 -5.83730 -1.5020  -5.0176  6.49150 -25.8940  11.6040   5.1414   \n4  5.6422 -2.65020  4.1389  -5.6228  0.74712   2.7475  -6.3798   9.0944   \n\n       8        9    ...      93      94       95       96      97      98   \\\n0  -8.6108   4.3228  ...  -2.8601 -24.768  18.2130   7.3551  44.382  18.659   \n1  -7.3532  13.8250  ... -29.5170 -35.920   7.0253 -12.0390  43.115 -71.516   \n2  -6.2527  12.3210  ...  13.8550  17.979 -25.7940  16.4910  13.304 -25.527   \n3  -2.5690   6.2234  ...  35.8110  18.597 -27.5800  12.5700  10.744 -38.588   \n4 -13.5540  10.9460  ...   7.1254 -38.921 -67.4780  29.1870  27.917  13.592   \n\n       99       100      101     102  \n0  -6.0441   2.9410  29.0100 -32.906  \n1 -25.2070  -6.4823  96.8440 -67.232  \n2 -52.4930  79.9770   8.9831  30.085  \n3  10.7530   2.9410  29.0100 -32.906  \n4  19.5940  31.2670   7.3044 -84.121  \n\n[5 rows x 103 columns]",
            "text/html": "<div>\n<style scoped>\n    .dataframe tbody tr th:only-of-type {\n        vertical-align: middle;\n    }\n\n    .dataframe tbody tr th {\n        vertical-align: top;\n    }\n\n    .dataframe thead th {\n        text-align: right;\n    }\n</style>\n<table border=\"1\" class=\"dataframe\">\n  <thead>\n    <tr style=\"text-align: right;\">\n      <th></th>\n      <th>0</th>\n      <th>1</th>\n      <th>2</th>\n      <th>3</th>\n      <th>4</th>\n      <th>5</th>\n      <th>6</th>\n      <th>7</th>\n      <th>8</th>\n      <th>9</th>\n      <th>...</th>\n      <th>93</th>\n      <th>94</th>\n      <th>95</th>\n      <th>96</th>\n      <th>97</th>\n      <th>98</th>\n      <th>99</th>\n      <th>100</th>\n      <th>101</th>\n      <th>102</th>\n    </tr>\n  </thead>\n  <tbody>\n    <tr>\n      <th>0</th>\n      <td>-6.3128</td>\n      <td>-5.58510</td>\n      <td>-3.0679</td>\n      <td>12.9880</td>\n      <td>9.00260</td>\n      <td>-5.5361</td>\n      <td>-1.0356</td>\n      <td>10.1650</td>\n      <td>-8.6108</td>\n      <td>4.3228</td>\n      <td>...</td>\n      <td>-2.8601</td>\n      <td>-24.768</td>\n      <td>18.2130</td>\n      <td>7.3551</td>\n      <td>44.382</td>\n      <td>18.659</td>\n      <td>-6.0441</td>\n      <td>2.9410</td>\n      <td>29.0100</td>\n      <td>-32.906</td>\n    </tr>\n    <tr>\n      <th>1</th>\n      <td>1.3902</td>\n      <td>-0.44661</td>\n      <td>-3.7137</td>\n      <td>-12.8420</td>\n      <td>4.47870</td>\n      <td>4.8796</td>\n      <td>3.0049</td>\n      <td>-5.9097</td>\n      <td>-7.3532</td>\n      <td>13.8250</td>\n      <td>...</td>\n      <td>-29.5170</td>\n      <td>-35.920</td>\n      <td>7.0253</td>\n      <td>-12.0390</td>\n      <td>43.115</td>\n      <td>-71.516</td>\n      <td>-25.2070</td>\n      <td>-6.4823</td>\n      <td>96.8440</td>\n      <td>-67.232</td>\n    </tr>\n    <tr>\n      <th>2</th>\n      <td>-8.3044</td>\n      <td>-3.45690</td>\n      <td>6.5153</td>\n      <td>-12.0090</td>\n      <td>-6.76200</td>\n      <td>-1.2466</td>\n      <td>-5.9627</td>\n      <td>9.9527</td>\n      <td>-6.2527</td>\n      <td>12.3210</td>\n      <td>...</td>\n      <td>13.8550</td>\n      <td>17.979</td>\n      <td>-25.7940</td>\n      <td>16.4910</td>\n      <td>13.304</td>\n      <td>-25.527</td>\n      <td>-52.4930</td>\n      <td>79.9770</td>\n      <td>8.9831</td>\n      <td>30.085</td>\n    </tr>\n    <tr>\n      <th>3</th>\n      <td>-6.3335</td>\n      <td>-5.83730</td>\n      <td>-1.5020</td>\n      <td>-5.0176</td>\n      <td>6.49150</td>\n      <td>-25.8940</td>\n      <td>11.6040</td>\n      <td>5.1414</td>\n      <td>-2.5690</td>\n      <td>6.2234</td>\n      <td>...</td>\n      <td>35.8110</td>\n      <td>18.597</td>\n      <td>-27.5800</td>\n      <td>12.5700</td>\n      <td>10.744</td>\n      <td>-38.588</td>\n      <td>10.7530</td>\n      <td>2.9410</td>\n      <td>29.0100</td>\n      <td>-32.906</td>\n    </tr>\n    <tr>\n      <th>4</th>\n      <td>5.6422</td>\n      <td>-2.65020</td>\n      <td>4.1389</td>\n      <td>-5.6228</td>\n      <td>0.74712</td>\n      <td>2.7475</td>\n      <td>-6.3798</td>\n      <td>9.0944</td>\n      <td>-13.5540</td>\n      <td>10.9460</td>\n      <td>...</td>\n      <td>7.1254</td>\n      <td>-38.921</td>\n      <td>-67.4780</td>\n      <td>29.1870</td>\n      <td>27.917</td>\n      <td>13.592</td>\n      <td>19.5940</td>\n      <td>31.2670</td>\n      <td>7.3044</td>\n      <td>-84.121</td>\n    </tr>\n  </tbody>\n</table>\n<p>5 rows × 103 columns</p>\n</div>"
          },
          "metadata": {}
        }
      ],
      "id": "hB8afCwEbGRx"
    },
    {
      "cell_type": "code",
      "source": [
        "# Step 1: Convert DataFrame to NumPy array\n",
        "adjacency_matrix = adjacency.to_numpy()"
      ],
      "metadata": {
        "execution": {
          "iopub.status.busy": "2024-05-10T09:47:13.880575Z",
          "iopub.execute_input": "2024-05-10T09:47:13.880916Z",
          "iopub.status.idle": "2024-05-10T09:47:13.887465Z",
          "shell.execute_reply.started": "2024-05-10T09:47:13.880890Z",
          "shell.execute_reply": "2024-05-10T09:47:13.886678Z"
        },
        "trusted": true,
        "id": "saQv5ra3bGR0"
      },
      "execution_count": null,
      "outputs": [],
      "id": "saQv5ra3bGR0"
    },
    {
      "cell_type": "code",
      "source": [
        "# Step 2: Convert data to GPU arrays\n",
        "adjacency_tensor = torch.tensor(adjacency_matrix, device='cuda')"
      ],
      "metadata": {
        "execution": {
          "iopub.status.busy": "2024-05-10T09:47:13.888705Z",
          "iopub.execute_input": "2024-05-10T09:47:13.889482Z",
          "iopub.status.idle": "2024-05-10T09:47:14.140657Z",
          "shell.execute_reply.started": "2024-05-10T09:47:13.889449Z",
          "shell.execute_reply": "2024-05-10T09:47:14.139828Z"
        },
        "trusted": true,
        "id": "SU8Qd3q1bGR3"
      },
      "execution_count": null,
      "outputs": [],
      "id": "SU8Qd3q1bGR3"
    },
    {
      "cell_type": "code",
      "source": [
        "# Step 3: Compute Laplacian matrix\n",
        "degree_tensor = torch.diag(torch.sum(adjacency_tensor, dim=1))\n",
        "laplacian_tensor = degree_tensor - adjacency_tensor\n",
        "degree_tensor"
      ],
      "metadata": {
        "execution": {
          "iopub.status.busy": "2024-05-10T09:47:14.141714Z",
          "iopub.execute_input": "2024-05-10T09:47:14.141991Z",
          "iopub.status.idle": "2024-05-10T09:47:14.168449Z",
          "shell.execute_reply.started": "2024-05-10T09:47:14.141968Z",
          "shell.execute_reply": "2024-05-10T09:47:14.167527Z"
        },
        "trusted": true,
        "id": "Dsd22WoJbGR6",
        "outputId": "73d4fa39-20d7-4a5f-b182-0b7bfb6b5517"
      },
      "execution_count": null,
      "outputs": [
        {
          "execution_count": 107,
          "output_type": "execute_result",
          "data": {
            "text/plain": "tensor([[5846,    0,    0,  ...,    0,    0,    0],\n        [   0, 6999,    0,  ...,    0,    0,    0],\n        [   0,    0, 3428,  ...,    0,    0,    0],\n        ...,\n        [   0,    0,    0,  ..., 5982,    0,    0],\n        [   0,    0,    0,  ...,    0, 9141,    0],\n        [   0,    0,    0,  ...,    0,    0, 8469]], device='cuda:0')"
          },
          "metadata": {}
        }
      ],
      "id": "Dsd22WoJbGR6"
    },
    {
      "cell_type": "code",
      "source": [
        "# Convert Laplacian matrix to float32\n",
        "laplacian_tensor = laplacian_tensor.to(torch.float32)  # or torch.float64\n",
        "\n",
        "# Step 4: Eigenvalue decomposition\n",
        "eigenvalues, eigenvectors = torch.linalg.eigh(laplacian_tensor, UPLO='U')\n",
        "print(eigenvalues.shape)\n",
        "print(eigenvalues)"
      ],
      "metadata": {
        "execution": {
          "iopub.status.busy": "2024-05-10T09:47:14.171170Z",
          "iopub.execute_input": "2024-05-10T09:47:14.171511Z",
          "iopub.status.idle": "2024-05-10T09:47:20.901641Z",
          "shell.execute_reply.started": "2024-05-10T09:47:14.171484Z",
          "shell.execute_reply": "2024-05-10T09:47:20.900585Z"
        },
        "trusted": true,
        "id": "HzmD9B6rbGR-",
        "outputId": "64e451d2-4c6b-46b7-a982-6b7413a2c0cc"
      },
      "execution_count": null,
      "outputs": [
        {
          "name": "stdout",
          "text": "torch.Size([11952])\ntensor([-2.1529e-04,  3.9998e+00,  4.9713e+00,  ...,  1.1070e+04,\n         1.1085e+04,  1.1178e+04], device='cuda:0')\n",
          "output_type": "stream"
        }
      ],
      "id": "HzmD9B6rbGR-"
    },
    {
      "cell_type": "code",
      "source": [
        "d = 103  # Dimension of spectral embedding\n",
        "embedding_indices = torch.argsort(eigenvalues)[-d-1:-1]  # Get indices of last d vectors except the last one\n",
        "selected_eigenvectors = eigenvectors[:, embedding_indices]"
      ],
      "metadata": {
        "execution": {
          "iopub.status.busy": "2024-05-10T09:47:20.903030Z",
          "iopub.execute_input": "2024-05-10T09:47:20.903429Z",
          "iopub.status.idle": "2024-05-10T09:47:20.909330Z",
          "shell.execute_reply.started": "2024-05-10T09:47:20.903395Z",
          "shell.execute_reply": "2024-05-10T09:47:20.908362Z"
        },
        "trusted": true,
        "id": "FDwmzJd-bGSA"
      },
      "execution_count": null,
      "outputs": [],
      "id": "FDwmzJd-bGSA"
    },
    {
      "cell_type": "code",
      "source": [
        "# Step 6: Stack eigenvectors\n",
        "spectral_embedding = selected_eigenvectors\n",
        "\n",
        "# Print or use spectral embedding\n",
        "print(\"Spectral embedding:\")\n",
        "print(spectral_embedding)"
      ],
      "metadata": {
        "execution": {
          "iopub.status.busy": "2024-05-10T09:47:20.910469Z",
          "iopub.execute_input": "2024-05-10T09:47:20.910760Z",
          "iopub.status.idle": "2024-05-10T09:47:20.926704Z",
          "shell.execute_reply.started": "2024-05-10T09:47:20.910736Z",
          "shell.execute_reply": "2024-05-10T09:47:20.925581Z"
        },
        "trusted": true,
        "id": "1DQwBCS-bGSC",
        "outputId": "eb38487e-c3ee-447e-d69b-ce8e434361b9"
      },
      "execution_count": null,
      "outputs": [
        {
          "name": "stdout",
          "text": "Spectral embedding:\ntensor([[ 9.0968e-05, -8.6991e-05,  9.5898e-05,  ..., -9.0604e-05,\n         -8.8916e-05,  9.0048e-05],\n        [ 9.6204e-05, -8.9045e-05,  1.0622e-04,  ..., -9.6435e-05,\n         -9.0890e-05,  9.3975e-05],\n        [-4.3267e-05, -9.7918e-05,  9.5097e-05,  ..., -9.1566e-05,\n         -9.0223e-05,  9.0955e-05],\n        ...,\n        [ 8.8916e-05, -9.3041e-05,  9.5539e-05,  ..., -8.9981e-05,\n         -8.8893e-05,  9.0116e-05],\n        [ 1.0058e-04, -6.6687e-05,  9.7574e-05,  ..., -8.8018e-05,\n         -8.6935e-05,  8.7079e-05],\n        [ 9.0392e-05, -7.3977e-05,  8.6271e-05,  ..., -8.7131e-05,\n         -8.4125e-05,  8.5648e-05]], device='cuda:0')\n",
          "output_type": "stream"
        }
      ],
      "id": "1DQwBCS-bGSC"
    },
    {
      "cell_type": "code",
      "source": [
        "spectral_embedding[0]"
      ],
      "metadata": {
        "execution": {
          "iopub.status.busy": "2024-05-10T09:47:20.927934Z",
          "iopub.execute_input": "2024-05-10T09:47:20.928890Z",
          "iopub.status.idle": "2024-05-10T09:47:20.938475Z",
          "shell.execute_reply.started": "2024-05-10T09:47:20.928854Z",
          "shell.execute_reply": "2024-05-10T09:47:20.937450Z"
        },
        "trusted": true,
        "id": "x2g8FLClbGSD",
        "outputId": "db769208-0592-452f-a856-c02e6ad71423"
      },
      "execution_count": null,
      "outputs": [
        {
          "execution_count": 111,
          "output_type": "execute_result",
          "data": {
            "text/plain": "tensor([ 9.0968e-05, -8.6991e-05,  9.5898e-05,  9.4064e-05, -9.2624e-05,\n        -9.5889e-05,  8.9805e-05,  9.1975e-05,  9.3498e-05, -9.5701e-05,\n        -1.4250e-04,  2.5296e-06, -1.2204e-04, -5.6332e-06,  9.3310e-05,\n         8.9928e-05,  9.0722e-05,  9.2840e-05, -9.8520e-05, -1.5752e-04,\n         5.6956e-06,  3.1722e-06, -8.9581e-05, -8.6320e-05,  1.3634e-04,\n         1.0871e-06,  8.4795e-05, -9.3072e-05, -1.0483e-04, -1.3198e-04,\n         3.4207e-06,  9.2167e-05,  1.4965e-04,  1.6738e-05,  7.9311e-06,\n         7.7677e-05,  8.6025e-05, -8.8377e-05, -8.8158e-05, -9.0739e-05,\n         1.2122e-04,  3.6062e-06,  9.1138e-05, -8.8438e-05,  9.1661e-05,\n        -9.3222e-05,  9.1324e-05,  8.9295e-05, -8.6634e-05, -9.0191e-05,\n         9.1199e-05, -9.1266e-05,  1.2271e-04,  1.2834e-05, -9.4394e-05,\n         1.2574e-04, -1.3817e-07, -9.0083e-05,  8.9885e-05, -9.1667e-05,\n         9.0570e-05, -9.1719e-05,  9.4016e-05, -8.9333e-05,  9.0005e-05,\n        -9.3614e-05,  9.0551e-05, -8.7763e-05,  9.1125e-05,  1.3004e-04,\n        -1.3357e-06,  1.2685e-04,  2.2358e-06,  9.2127e-05, -9.1344e-05,\n        -9.4172e-05, -1.2460e-04,  3.7078e-06, -9.0918e-05, -9.0988e-05,\n         9.1950e-05,  9.1238e-05,  9.1018e-05,  9.0594e-05, -9.0972e-05,\n        -1.3291e-04, -2.3441e-06, -8.6723e-05,  8.8811e-05,  9.1555e-05,\n         8.7738e-05, -9.1594e-05, -9.0462e-05, -9.1358e-05,  9.1213e-05,\n         8.9715e-05, -8.9883e-05,  9.0240e-05, -9.0584e-05,  9.0302e-05,\n        -9.0604e-05, -8.8916e-05,  9.0048e-05], device='cuda:0')"
          },
          "metadata": {}
        }
      ],
      "id": "x2g8FLClbGSD"
    },
    {
      "cell_type": "code",
      "source": [
        "# Assuming 'spectral_embedding' is your PyTorch tensor on the CUDA device\n",
        "spectral_embedding_cpu = spectral_embedding.cpu()  # Move tensor to CPU\n",
        "embedding_np = spectral_embedding_cpu.numpy()  # Convert to NumPy array"
      ],
      "metadata": {
        "execution": {
          "iopub.status.busy": "2024-05-10T09:47:20.939593Z",
          "iopub.execute_input": "2024-05-10T09:47:20.939918Z",
          "iopub.status.idle": "2024-05-10T09:47:20.945786Z",
          "shell.execute_reply.started": "2024-05-10T09:47:20.939892Z",
          "shell.execute_reply": "2024-05-10T09:47:20.944810Z"
        },
        "trusted": true,
        "id": "pLdoBTK5bGSE"
      },
      "execution_count": null,
      "outputs": [],
      "id": "pLdoBTK5bGSE"
    },
    {
      "cell_type": "code",
      "source": [
        "scaler = StandardScaler()\n",
        "scaled_features1 = scaler.fit_transform(embedding_np)"
      ],
      "metadata": {
        "execution": {
          "iopub.status.busy": "2024-05-10T09:47:20.947022Z",
          "iopub.execute_input": "2024-05-10T09:47:20.947418Z",
          "iopub.status.idle": "2024-05-10T09:47:20.970026Z",
          "shell.execute_reply.started": "2024-05-10T09:47:20.947373Z",
          "shell.execute_reply": "2024-05-10T09:47:20.969007Z"
        },
        "trusted": true,
        "id": "bzdkWieCbGSF"
      },
      "execution_count": null,
      "outputs": [],
      "id": "bzdkWieCbGSF"
    },
    {
      "cell_type": "code",
      "source": [
        "attributes_np = attributes.to_numpy()\n",
        "scaler = StandardScaler()\n",
        "scaled_features2 = scaler.fit_transform(attributes_np)"
      ],
      "metadata": {
        "execution": {
          "iopub.status.busy": "2024-05-10T09:47:20.971293Z",
          "iopub.execute_input": "2024-05-10T09:47:20.971597Z",
          "iopub.status.idle": "2024-05-10T09:47:20.989425Z",
          "shell.execute_reply.started": "2024-05-10T09:47:20.971571Z",
          "shell.execute_reply": "2024-05-10T09:47:20.988450Z"
        },
        "trusted": true,
        "id": "LOS7V7pkbGSH"
      },
      "execution_count": null,
      "outputs": [],
      "id": "LOS7V7pkbGSH"
    },
    {
      "cell_type": "code",
      "source": [
        "# concatenated_data = np.concatenate((scaled_features1, scaled_features2), axis=1)\n",
        "concatenated_data = scaled_features1+scaled_features2"
      ],
      "metadata": {
        "execution": {
          "iopub.status.busy": "2024-05-10T09:48:50.641955Z",
          "iopub.execute_input": "2024-05-10T09:48:50.642671Z",
          "iopub.status.idle": "2024-05-10T09:48:50.651973Z",
          "shell.execute_reply.started": "2024-05-10T09:48:50.642637Z",
          "shell.execute_reply": "2024-05-10T09:48:50.650974Z"
        },
        "trusted": true,
        "id": "HpMpU3tXbGSI"
      },
      "execution_count": null,
      "outputs": [],
      "id": "HpMpU3tXbGSI"
    },
    {
      "cell_type": "code",
      "source": [
        "seeds = [\n",
        "    [9897, 6314, 2080],\n",
        "    [5863, 5838, 9831],\n",
        "    [2193, 5757, 6346],\n",
        "    [9219, 5958, 9646],\n",
        "    [6345, 10950, 2174],\n",
        "    [1942, 935, 4907],\n",
        "    [1529, 9833, 7709],\n",
        "    [4566, 902, 5633],\n",
        "    [8938, 7423, 1853],\n",
        "    [5793, 10805, 2258]\n",
        "]"
      ],
      "metadata": {
        "execution": {
          "iopub.status.busy": "2024-05-10T09:48:51.721861Z",
          "iopub.execute_input": "2024-05-10T09:48:51.722589Z",
          "iopub.status.idle": "2024-05-10T09:48:51.728416Z",
          "shell.execute_reply.started": "2024-05-10T09:48:51.722559Z",
          "shell.execute_reply": "2024-05-10T09:48:51.727255Z"
        },
        "trusted": true,
        "id": "7Kb9V-3vbGSJ"
      },
      "execution_count": null,
      "outputs": [],
      "id": "7Kb9V-3vbGSJ"
    },
    {
      "cell_type": "code",
      "source": [
        "concatenated_data_ = concatenated_data[:10953]"
      ],
      "metadata": {
        "execution": {
          "iopub.status.busy": "2024-05-10T09:48:52.787222Z",
          "iopub.execute_input": "2024-05-10T09:48:52.787569Z",
          "iopub.status.idle": "2024-05-10T09:48:52.792191Z",
          "shell.execute_reply.started": "2024-05-10T09:48:52.787541Z",
          "shell.execute_reply": "2024-05-10T09:48:52.791176Z"
        },
        "trusted": true,
        "id": "xk-mmfsubGSK"
      },
      "execution_count": null,
      "outputs": [],
      "id": "xk-mmfsubGSK"
    },
    {
      "cell_type": "code",
      "source": [
        "centroids = []\n",
        "for i in range(10):\n",
        "    centroids.append(np.mean(concatenated_data[seeds[i]], axis=0))"
      ],
      "metadata": {
        "execution": {
          "iopub.status.busy": "2024-05-10T09:48:53.099066Z",
          "iopub.execute_input": "2024-05-10T09:48:53.099400Z",
          "iopub.status.idle": "2024-05-10T09:48:53.105041Z",
          "shell.execute_reply.started": "2024-05-10T09:48:53.099374Z",
          "shell.execute_reply": "2024-05-10T09:48:53.103971Z"
        },
        "trusted": true,
        "id": "NQxHkB1ybGSL"
      },
      "execution_count": null,
      "outputs": [],
      "id": "NQxHkB1ybGSL"
    },
    {
      "cell_type": "code",
      "source": [
        "centroids = np.array(centroids)"
      ],
      "metadata": {
        "execution": {
          "iopub.status.busy": "2024-05-10T09:48:53.317317Z",
          "iopub.execute_input": "2024-05-10T09:48:53.317770Z",
          "iopub.status.idle": "2024-05-10T09:48:53.323001Z",
          "shell.execute_reply.started": "2024-05-10T09:48:53.317730Z",
          "shell.execute_reply": "2024-05-10T09:48:53.321824Z"
        },
        "trusted": true,
        "id": "vDqHxyzrbGSN"
      },
      "execution_count": null,
      "outputs": [],
      "id": "vDqHxyzrbGSN"
    },
    {
      "cell_type": "code",
      "source": [
        "centroids.shape"
      ],
      "metadata": {
        "execution": {
          "iopub.status.busy": "2024-05-10T09:48:53.556858Z",
          "iopub.execute_input": "2024-05-10T09:48:53.557589Z",
          "iopub.status.idle": "2024-05-10T09:48:53.563867Z",
          "shell.execute_reply.started": "2024-05-10T09:48:53.557554Z",
          "shell.execute_reply": "2024-05-10T09:48:53.562709Z"
        },
        "trusted": true,
        "id": "1ZxYtPCPbGSO",
        "outputId": "e4a849c9-f36c-466f-ab3c-f382691db510"
      },
      "execution_count": null,
      "outputs": [
        {
          "execution_count": 135,
          "output_type": "execute_result",
          "data": {
            "text/plain": "(10, 103)"
          },
          "metadata": {}
        }
      ],
      "id": "1ZxYtPCPbGSO"
    },
    {
      "cell_type": "code",
      "source": [
        "# Assuming centroids_np is a numpy array containing the manually specified cluster centroids\n",
        "kmeans = KMeans(n_clusters=10, init=centroids, n_init=1)\n",
        "kmeans.fit(concatenated_data)"
      ],
      "metadata": {
        "execution": {
          "iopub.status.busy": "2024-05-10T09:48:54.157090Z",
          "iopub.execute_input": "2024-05-10T09:48:54.157465Z",
          "iopub.status.idle": "2024-05-10T09:48:54.248305Z",
          "shell.execute_reply.started": "2024-05-10T09:48:54.157435Z",
          "shell.execute_reply": "2024-05-10T09:48:54.247370Z"
        },
        "trusted": true,
        "id": "gGHWrLdAbGSQ",
        "outputId": "470f11d5-e1ce-43d5-d192-769b97b6a25c"
      },
      "execution_count": null,
      "outputs": [
        {
          "execution_count": 136,
          "output_type": "execute_result",
          "data": {
            "text/plain": "KMeans(init=array([[ 0.84159332, -0.82778363,  0.32354296, ..., -0.53095194,\n        -0.32148648, -0.10553391],\n       [ 0.33477924, -0.49876762,  0.89323708, ..., -0.1055138 ,\n         0.1502279 , -0.01724285],\n       [ 0.49554885,  0.62422809, -0.03578848, ..., -0.03156252,\n        -1.62911282, -0.24544139],\n       ...,\n       [ 0.1082862 , -0.30577823,  0.40037439, ..., -0.64398089,\n         0.9975666 , -0.54015851],\n       [-0.02007434,  0.90376619,  0.65418229, ..., -0.57847681,\n         0.64413823,  1.33806274],\n       [ 0.23955436,  0.90059225, -0.84114637, ...,  0.68589676,\n        -0.26164645, -0.53220309]]),\n       n_clusters=10, n_init=1)",
            "text/html": "<style>#sk-container-id-8 {color: black;background-color: white;}#sk-container-id-8 pre{padding: 0;}#sk-container-id-8 div.sk-toggleable {background-color: white;}#sk-container-id-8 label.sk-toggleable__label {cursor: pointer;display: block;width: 100%;margin-bottom: 0;padding: 0.3em;box-sizing: border-box;text-align: center;}#sk-container-id-8 label.sk-toggleable__label-arrow:before {content: \"▸\";float: left;margin-right: 0.25em;color: #696969;}#sk-container-id-8 label.sk-toggleable__label-arrow:hover:before {color: black;}#sk-container-id-8 div.sk-estimator:hover label.sk-toggleable__label-arrow:before {color: black;}#sk-container-id-8 div.sk-toggleable__content {max-height: 0;max-width: 0;overflow: hidden;text-align: left;background-color: #f0f8ff;}#sk-container-id-8 div.sk-toggleable__content pre {margin: 0.2em;color: black;border-radius: 0.25em;background-color: #f0f8ff;}#sk-container-id-8 input.sk-toggleable__control:checked~div.sk-toggleable__content {max-height: 200px;max-width: 100%;overflow: auto;}#sk-container-id-8 input.sk-toggleable__control:checked~label.sk-toggleable__label-arrow:before {content: \"▾\";}#sk-container-id-8 div.sk-estimator input.sk-toggleable__control:checked~label.sk-toggleable__label {background-color: #d4ebff;}#sk-container-id-8 div.sk-label input.sk-toggleable__control:checked~label.sk-toggleable__label {background-color: #d4ebff;}#sk-container-id-8 input.sk-hidden--visually {border: 0;clip: rect(1px 1px 1px 1px);clip: rect(1px, 1px, 1px, 1px);height: 1px;margin: -1px;overflow: hidden;padding: 0;position: absolute;width: 1px;}#sk-container-id-8 div.sk-estimator {font-family: monospace;background-color: #f0f8ff;border: 1px dotted black;border-radius: 0.25em;box-sizing: border-box;margin-bottom: 0.5em;}#sk-container-id-8 div.sk-estimator:hover {background-color: #d4ebff;}#sk-container-id-8 div.sk-parallel-item::after {content: \"\";width: 100%;border-bottom: 1px solid gray;flex-grow: 1;}#sk-container-id-8 div.sk-label:hover label.sk-toggleable__label {background-color: #d4ebff;}#sk-container-id-8 div.sk-serial::before {content: \"\";position: absolute;border-left: 1px solid gray;box-sizing: border-box;top: 0;bottom: 0;left: 50%;z-index: 0;}#sk-container-id-8 div.sk-serial {display: flex;flex-direction: column;align-items: center;background-color: white;padding-right: 0.2em;padding-left: 0.2em;position: relative;}#sk-container-id-8 div.sk-item {position: relative;z-index: 1;}#sk-container-id-8 div.sk-parallel {display: flex;align-items: stretch;justify-content: center;background-color: white;position: relative;}#sk-container-id-8 div.sk-item::before, #sk-container-id-8 div.sk-parallel-item::before {content: \"\";position: absolute;border-left: 1px solid gray;box-sizing: border-box;top: 0;bottom: 0;left: 50%;z-index: -1;}#sk-container-id-8 div.sk-parallel-item {display: flex;flex-direction: column;z-index: 1;position: relative;background-color: white;}#sk-container-id-8 div.sk-parallel-item:first-child::after {align-self: flex-end;width: 50%;}#sk-container-id-8 div.sk-parallel-item:last-child::after {align-self: flex-start;width: 50%;}#sk-container-id-8 div.sk-parallel-item:only-child::after {width: 0;}#sk-container-id-8 div.sk-dashed-wrapped {border: 1px dashed gray;margin: 0 0.4em 0.5em 0.4em;box-sizing: border-box;padding-bottom: 0.4em;background-color: white;}#sk-container-id-8 div.sk-label label {font-family: monospace;font-weight: bold;display: inline-block;line-height: 1.2em;}#sk-container-id-8 div.sk-label-container {text-align: center;}#sk-container-id-8 div.sk-container {/* jupyter's `normalize.less` sets `[hidden] { display: none; }` but bootstrap.min.css set `[hidden] { display: none !important; }` so we also need the `!important` here to be able to override the default hidden behavior on the sphinx rendered scikit-learn.org. See: https://github.com/scikit-learn/scikit-learn/issues/21755 */display: inline-block !important;position: relative;}#sk-container-id-8 div.sk-text-repr-fallback {display: none;}</style><div id=\"sk-container-id-8\" class=\"sk-top-container\"><div class=\"sk-text-repr-fallback\"><pre>KMeans(init=array([[ 0.84159332, -0.82778363,  0.32354296, ..., -0.53095194,\n        -0.32148648, -0.10553391],\n       [ 0.33477924, -0.49876762,  0.89323708, ..., -0.1055138 ,\n         0.1502279 , -0.01724285],\n       [ 0.49554885,  0.62422809, -0.03578848, ..., -0.03156252,\n        -1.62911282, -0.24544139],\n       ...,\n       [ 0.1082862 , -0.30577823,  0.40037439, ..., -0.64398089,\n         0.9975666 , -0.54015851],\n       [-0.02007434,  0.90376619,  0.65418229, ..., -0.57847681,\n         0.64413823,  1.33806274],\n       [ 0.23955436,  0.90059225, -0.84114637, ...,  0.68589676,\n        -0.26164645, -0.53220309]]),\n       n_clusters=10, n_init=1)</pre><b>In a Jupyter environment, please rerun this cell to show the HTML representation or trust the notebook. <br />On GitHub, the HTML representation is unable to render, please try loading this page with nbviewer.org.</b></div><div class=\"sk-container\" hidden><div class=\"sk-item\"><div class=\"sk-estimator sk-toggleable\"><input class=\"sk-toggleable__control sk-hidden--visually\" id=\"sk-estimator-id-8\" type=\"checkbox\" checked><label for=\"sk-estimator-id-8\" class=\"sk-toggleable__label sk-toggleable__label-arrow\">KMeans</label><div class=\"sk-toggleable__content\"><pre>KMeans(init=array([[ 0.84159332, -0.82778363,  0.32354296, ..., -0.53095194,\n        -0.32148648, -0.10553391],\n       [ 0.33477924, -0.49876762,  0.89323708, ..., -0.1055138 ,\n         0.1502279 , -0.01724285],\n       [ 0.49554885,  0.62422809, -0.03578848, ..., -0.03156252,\n        -1.62911282, -0.24544139],\n       ...,\n       [ 0.1082862 , -0.30577823,  0.40037439, ..., -0.64398089,\n         0.9975666 , -0.54015851],\n       [-0.02007434,  0.90376619,  0.65418229, ..., -0.57847681,\n         0.64413823,  1.33806274],\n       [ 0.23955436,  0.90059225, -0.84114637, ...,  0.68589676,\n        -0.26164645, -0.53220309]]),\n       n_clusters=10, n_init=1)</pre></div></div></div></div></div>"
          },
          "metadata": {}
        }
      ],
      "id": "gGHWrLdAbGSQ"
    },
    {
      "cell_type": "code",
      "source": [
        "cluster_labels = kmeans.labels_"
      ],
      "metadata": {
        "execution": {
          "iopub.status.busy": "2024-05-10T09:48:54.781925Z",
          "iopub.execute_input": "2024-05-10T09:48:54.783028Z",
          "iopub.status.idle": "2024-05-10T09:48:54.787100Z",
          "shell.execute_reply.started": "2024-05-10T09:48:54.782991Z",
          "shell.execute_reply": "2024-05-10T09:48:54.786025Z"
        },
        "trusted": true,
        "id": "u0XoTNiZbGSR"
      },
      "execution_count": null,
      "outputs": [],
      "id": "u0XoTNiZbGSR"
    },
    {
      "cell_type": "code",
      "source": [
        "cluster_labels"
      ],
      "metadata": {
        "execution": {
          "iopub.status.busy": "2024-05-10T09:48:55.557024Z",
          "iopub.execute_input": "2024-05-10T09:48:55.557404Z",
          "iopub.status.idle": "2024-05-10T09:48:55.564081Z",
          "shell.execute_reply.started": "2024-05-10T09:48:55.557374Z",
          "shell.execute_reply": "2024-05-10T09:48:55.563136Z"
        },
        "trusted": true,
        "id": "WEf15q8tbGST",
        "outputId": "2ac4dab4-f4ff-4691-9c90-b8d129312f31"
      },
      "execution_count": null,
      "outputs": [
        {
          "execution_count": 138,
          "output_type": "execute_result",
          "data": {
            "text/plain": "array([6, 7, 0, ..., 1, 0, 1], dtype=int32)"
          },
          "metadata": {}
        }
      ],
      "id": "WEf15q8tbGST"
    },
    {
      "cell_type": "code",
      "source": [
        "for i in seeds:\n",
        "    for j in i:\n",
        "        print(cluster_labels[j])"
      ],
      "metadata": {
        "execution": {
          "iopub.status.busy": "2024-05-10T09:48:56.556994Z",
          "iopub.execute_input": "2024-05-10T09:48:56.557767Z",
          "iopub.status.idle": "2024-05-10T09:48:56.562603Z",
          "shell.execute_reply.started": "2024-05-10T09:48:56.557735Z",
          "shell.execute_reply": "2024-05-10T09:48:56.561684Z"
        },
        "trusted": true,
        "id": "HnW-vYP0bGSV",
        "outputId": "52e8e7c2-df54-4d24-afc6-730d9957c762"
      },
      "execution_count": null,
      "outputs": [
        {
          "name": "stdout",
          "text": "0\n7\n2\n5\n6\n8\n4\n2\n6\n4\n3\n9\n4\n2\n4\n5\n3\n7\n6\n8\n3\n7\n5\n0\n8\n4\n8\n1\n9\n6\n",
          "output_type": "stream"
        }
      ],
      "id": "HnW-vYP0bGSV"
    },
    {
      "cell_type": "code",
      "source": [
        "# Split the concatenated_data and kmeans_labels into training (10952) and test (1000) sets\n",
        "train_features = concatenated_data[:10952]\n",
        "train_labels = cluster_labels[:10952]\n",
        "test_features = concatenated_data[10952:]"
      ],
      "metadata": {
        "execution": {
          "iopub.status.busy": "2024-05-10T09:48:36.996679Z",
          "iopub.execute_input": "2024-05-10T09:48:36.997500Z",
          "iopub.status.idle": "2024-05-10T09:48:37.001865Z",
          "shell.execute_reply.started": "2024-05-10T09:48:36.997469Z",
          "shell.execute_reply": "2024-05-10T09:48:37.000813Z"
        },
        "trusted": true,
        "id": "e_9XDy6hbGSW"
      },
      "execution_count": null,
      "outputs": [],
      "id": "e_9XDy6hbGSW"
    },
    {
      "cell_type": "code",
      "source": [
        "concatenated_data.shape"
      ],
      "metadata": {
        "execution": {
          "iopub.status.busy": "2024-05-10T09:48:38.156917Z",
          "iopub.execute_input": "2024-05-10T09:48:38.157649Z",
          "iopub.status.idle": "2024-05-10T09:48:38.163344Z",
          "shell.execute_reply.started": "2024-05-10T09:48:38.157598Z",
          "shell.execute_reply": "2024-05-10T09:48:38.162381Z"
        },
        "trusted": true,
        "id": "zpC2j5IUbGSX",
        "outputId": "084db9e8-06f8-4735-d218-006a5ea996db"
      },
      "execution_count": null,
      "outputs": [
        {
          "execution_count": 129,
          "output_type": "execute_result",
          "data": {
            "text/plain": "(11952, 103)"
          },
          "metadata": {}
        }
      ],
      "id": "zpC2j5IUbGSX"
    },
    {
      "cell_type": "code",
      "source": [
        "class SimpleClassifier(nn.Module):\n",
        "    def __init__(self, input_dim, output_dim):\n",
        "        super(SimpleClassifier, self).__init__()\n",
        "        self.fc1 = nn.Linear(input_dim, 128)  # Adjust the number of units in the hidden layer as needed\n",
        "        self.fc2 = nn.Linear(128, output_dim)\n",
        "\n",
        "    def forward(self, x):\n",
        "        x = F.relu(self.fc1(x))\n",
        "        x = self.fc2(x)\n",
        "        return x"
      ],
      "metadata": {
        "execution": {
          "iopub.status.busy": "2024-05-08T08:32:38.819895Z",
          "iopub.execute_input": "2024-05-08T08:32:38.820580Z",
          "iopub.status.idle": "2024-05-08T08:32:38.827160Z",
          "shell.execute_reply.started": "2024-05-08T08:32:38.820540Z",
          "shell.execute_reply": "2024-05-08T08:32:38.825846Z"
        },
        "trusted": true,
        "id": "dJqfqDgCbGSY"
      },
      "execution_count": null,
      "outputs": [],
      "id": "dJqfqDgCbGSY"
    },
    {
      "cell_type": "code",
      "source": [
        "input_dim = concatenated_data_.shape[1]\n",
        "output_dim = 10\n",
        "model = SimpleClassifier(input_dim, output_dim)"
      ],
      "metadata": {
        "execution": {
          "iopub.status.busy": "2024-05-08T08:32:40.659959Z",
          "iopub.execute_input": "2024-05-08T08:32:40.660802Z",
          "iopub.status.idle": "2024-05-08T08:32:40.671124Z",
          "shell.execute_reply.started": "2024-05-08T08:32:40.660768Z",
          "shell.execute_reply": "2024-05-08T08:32:40.670253Z"
        },
        "trusted": true,
        "id": "LlhCGdtTbGSZ"
      },
      "execution_count": null,
      "outputs": [],
      "id": "LlhCGdtTbGSZ"
    },
    {
      "cell_type": "code",
      "source": [
        "# Convert data to PyTorch tensors\n",
        "train_features_tensor = torch.tensor(train_features, dtype=torch.float32)\n",
        "train_labels_tensor = torch.tensor(train_labels, dtype=torch.long)\n",
        "test_features_tensor = torch.tensor(test_features, dtype=torch.float32)"
      ],
      "metadata": {
        "execution": {
          "iopub.status.busy": "2024-05-08T08:32:43.069894Z",
          "iopub.execute_input": "2024-05-08T08:32:43.070260Z",
          "iopub.status.idle": "2024-05-08T08:32:43.080592Z",
          "shell.execute_reply.started": "2024-05-08T08:32:43.070233Z",
          "shell.execute_reply": "2024-05-08T08:32:43.079570Z"
        },
        "trusted": true,
        "id": "pShApLlCbGSa"
      },
      "execution_count": null,
      "outputs": [],
      "id": "pShApLlCbGSa"
    },
    {
      "cell_type": "code",
      "source": [
        "batch_size = 32\n",
        "# Define a DataLoader for training data\n",
        "train_dataset = TensorDataset(train_features_tensor, train_labels_tensor)\n",
        "train_loader = DataLoader(train_dataset, batch_size=batch_size, shuffle=True)"
      ],
      "metadata": {
        "execution": {
          "iopub.status.busy": "2024-05-08T08:32:44.940491Z",
          "iopub.execute_input": "2024-05-08T08:32:44.941441Z",
          "iopub.status.idle": "2024-05-08T08:32:44.946530Z",
          "shell.execute_reply.started": "2024-05-08T08:32:44.941398Z",
          "shell.execute_reply": "2024-05-08T08:32:44.945508Z"
        },
        "trusted": true,
        "id": "07b0AJWIbGSc"
      },
      "execution_count": null,
      "outputs": [],
      "id": "07b0AJWIbGSc"
    },
    {
      "cell_type": "code",
      "source": [
        "from torch.optim.lr_scheduler import StepLR\n",
        "\n",
        "# Define loss function and optimizer\n",
        "learning_rate = 0.01\n",
        "criterion = nn.CrossEntropyLoss()\n",
        "optimizer = optim.Adam(model.parameters(), lr=learning_rate)\n",
        "scheduler = StepLR(optimizer, step_size=10, gamma=0.1)  # Learning rate scheduler\n",
        "num_epochs = 30\n",
        "\n",
        "# Train the neural network\n",
        "for epoch in range(num_epochs):\n",
        "    model.train()\n",
        "    total_loss = 0.0\n",
        "    for batch_features, batch_labels in train_loader:\n",
        "        optimizer.zero_grad()\n",
        "        outputs = model(batch_features)\n",
        "        loss = criterion(outputs, batch_labels)\n",
        "        loss.backward()\n",
        "        optimizer.step()\n",
        "        total_loss += loss.item() * batch_features.size(0)  # Accumulate the total loss\n",
        "    scheduler.step()  # Update the learning rate scheduler\n",
        "    epoch_loss = total_loss / len(train_loader.dataset)  # Calculate the average loss for the epoch\n",
        "    print(f'Epoch [{epoch+1}/{num_epochs}], Loss: {epoch_loss:.8f}')\n"
      ],
      "metadata": {
        "execution": {
          "iopub.status.busy": "2024-05-08T08:32:46.070059Z",
          "iopub.execute_input": "2024-05-08T08:32:46.070733Z",
          "iopub.status.idle": "2024-05-08T08:33:04.546110Z",
          "shell.execute_reply.started": "2024-05-08T08:32:46.070700Z",
          "shell.execute_reply": "2024-05-08T08:33:04.545108Z"
        },
        "trusted": true,
        "id": "3tRbuoNjbGSe",
        "outputId": "82441932-5311-4bf2-af6b-110297cffcc0"
      },
      "execution_count": null,
      "outputs": [
        {
          "name": "stdout",
          "text": "Epoch [1/30], Loss: 1.10758981\nEpoch [2/30], Loss: 1.35780994\nEpoch [3/30], Loss: 1.17409483\nEpoch [4/30], Loss: 1.35681690\nEpoch [5/30], Loss: 1.31119144\nEpoch [6/30], Loss: 1.52881944\nEpoch [7/30], Loss: 0.97885101\nEpoch [8/30], Loss: 0.95910504\nEpoch [9/30], Loss: 0.69274573\nEpoch [10/30], Loss: 0.98406268\nEpoch [11/30], Loss: 0.62581756\nEpoch [12/30], Loss: 0.07045279\nEpoch [13/30], Loss: 0.01234375\nEpoch [14/30], Loss: 0.00158620\nEpoch [15/30], Loss: 0.00000000\nEpoch [16/30], Loss: 0.00000000\nEpoch [17/30], Loss: 0.00000000\nEpoch [18/30], Loss: 0.00000000\nEpoch [19/30], Loss: 0.00000000\nEpoch [20/30], Loss: 0.00000000\nEpoch [21/30], Loss: 0.00000000\nEpoch [22/30], Loss: 0.00000000\nEpoch [23/30], Loss: 0.00000000\nEpoch [24/30], Loss: 0.00000000\nEpoch [25/30], Loss: 0.00000000\nEpoch [26/30], Loss: 0.00000000\nEpoch [27/30], Loss: 0.00000000\nEpoch [28/30], Loss: 0.00000000\nEpoch [29/30], Loss: 0.00000000\nEpoch [30/30], Loss: 0.00000000\n",
          "output_type": "stream"
        }
      ],
      "id": "3tRbuoNjbGSe"
    },
    {
      "cell_type": "code",
      "source": [
        "# Predict labels for the test features\n",
        "model.eval()\n",
        "with torch.no_grad():\n",
        "    test_outputs = model(test_features_tensor)\n",
        "    _, predicted_labels = torch.max(test_outputs, 1)\n",
        "    predicted_labels = predicted_labels.numpy()\n",
        "\n",
        "# Combine KMeans cluster labels for the first 10952 nodes and predicted labels for the last 1000 nodes\n",
        "all_labels = np.concatenate((cluster_labels, predicted_labels), axis=0)"
      ],
      "metadata": {
        "execution": {
          "iopub.status.busy": "2024-05-08T08:33:09.111293Z",
          "iopub.execute_input": "2024-05-08T08:33:09.112128Z",
          "iopub.status.idle": "2024-05-08T08:33:09.119641Z",
          "shell.execute_reply.started": "2024-05-08T08:33:09.112091Z",
          "shell.execute_reply": "2024-05-08T08:33:09.118486Z"
        },
        "trusted": true,
        "id": "ebM32oygbGSf"
      },
      "execution_count": null,
      "outputs": [],
      "id": "ebM32oygbGSf"
    },
    {
      "cell_type": "code",
      "source": [
        "all_labels"
      ],
      "metadata": {
        "execution": {
          "iopub.status.busy": "2024-05-08T08:33:11.729837Z",
          "iopub.execute_input": "2024-05-08T08:33:11.730741Z",
          "iopub.status.idle": "2024-05-08T08:33:11.736905Z",
          "shell.execute_reply.started": "2024-05-08T08:33:11.730706Z",
          "shell.execute_reply": "2024-05-08T08:33:11.735851Z"
        },
        "trusted": true,
        "id": "ff5x-Dt-bGSg",
        "outputId": "a11a0866-6cd1-4c3d-a60c-0c27bb5c6a07"
      },
      "execution_count": null,
      "outputs": [
        {
          "execution_count": 41,
          "output_type": "execute_result",
          "data": {
            "text/plain": "array([1, 7, 3, ..., 1, 9, 1])"
          },
          "metadata": {}
        }
      ],
      "id": "ff5x-Dt-bGSg"
    },
    {
      "cell_type": "code",
      "source": [
        "all_labels.max()"
      ],
      "metadata": {
        "execution": {
          "iopub.status.busy": "2024-05-08T08:33:13.470027Z",
          "iopub.execute_input": "2024-05-08T08:33:13.470400Z",
          "iopub.status.idle": "2024-05-08T08:33:13.476635Z",
          "shell.execute_reply.started": "2024-05-08T08:33:13.470373Z",
          "shell.execute_reply": "2024-05-08T08:33:13.475672Z"
        },
        "trusted": true,
        "id": "fDKIM-30bGSi",
        "outputId": "88f0b97c-cbc4-41f7-d059-e2340535a9cc"
      },
      "execution_count": null,
      "outputs": [
        {
          "execution_count": 42,
          "output_type": "execute_result",
          "data": {
            "text/plain": "9"
          },
          "metadata": {}
        }
      ],
      "id": "fDKIM-30bGSi"
    },
    {
      "cell_type": "code",
      "source": [
        "import pandas as pd\n",
        "\n",
        "# Create a DataFrame with ID and LABEL columns\n",
        "df = pd.DataFrame({'ID': range(11952), 'LABEL': cluster_labels})\n",
        "\n",
        "# Save the DataFrame to a CSV file without storing the index\n",
        "df.to_csv('all_labels.csv', index=False)"
      ],
      "metadata": {
        "execution": {
          "iopub.status.busy": "2024-05-10T09:49:05.914488Z",
          "iopub.execute_input": "2024-05-10T09:49:05.915184Z",
          "iopub.status.idle": "2024-05-10T09:49:05.935518Z",
          "shell.execute_reply.started": "2024-05-10T09:49:05.915149Z",
          "shell.execute_reply": "2024-05-10T09:49:05.934799Z"
        },
        "trusted": true,
        "id": "RnhcLb-ubGSj"
      },
      "execution_count": null,
      "outputs": [],
      "id": "RnhcLb-ubGSj"
    },
    {
      "cell_type": "code",
      "source": [
        "for i in range(10):\n",
        "    print(np.count_nonzero(cluster_labels==i))"
      ],
      "metadata": {
        "execution": {
          "iopub.status.busy": "2024-05-10T09:32:39.220802Z",
          "iopub.execute_input": "2024-05-10T09:32:39.221525Z",
          "iopub.status.idle": "2024-05-10T09:32:39.226647Z",
          "shell.execute_reply.started": "2024-05-10T09:32:39.221496Z",
          "shell.execute_reply": "2024-05-10T09:32:39.225673Z"
        },
        "trusted": true,
        "id": "0tsmGwUcbGSk",
        "outputId": "aef64da6-4761-4c85-91f2-145f9188360f"
      },
      "execution_count": null,
      "outputs": [
        {
          "name": "stdout",
          "text": "1165\n1195\n1181\n1196\n1189\n1208\n791\n2393\n1201\n433\n",
          "output_type": "stream"
        }
      ],
      "id": "0tsmGwUcbGSk"
    },
    {
      "cell_type": "code",
      "source": [
        "normalized_embeddings"
      ],
      "metadata": {
        "execution": {
          "iopub.status.busy": "2024-05-07T15:31:29.293452Z",
          "iopub.execute_input": "2024-05-07T15:31:29.293856Z",
          "iopub.status.idle": "2024-05-07T15:31:29.301184Z",
          "shell.execute_reply.started": "2024-05-07T15:31:29.293824Z",
          "shell.execute_reply": "2024-05-07T15:31:29.300391Z"
        },
        "trusted": true,
        "id": "giaufDjubGSl",
        "outputId": "aa81aeb7-b199-41c3-9a90-334d6ba89ae4"
      },
      "execution_count": null,
      "outputs": [
        {
          "execution_count": 45,
          "output_type": "execute_result",
          "data": {
            "text/plain": "array([[ 0.00913448, -0.00923027],\n       [ 0.0091351 , -0.00923698],\n       [ 0.00913986, -0.00924953],\n       ...,\n       [ 0.00914806, -0.00926099],\n       [ 0.00913844, -0.00923829],\n       [ 0.00913854, -0.0092379 ]], dtype=float32)"
          },
          "metadata": {}
        }
      ],
      "id": "giaufDjubGSl"
    },
    {
      "cell_type": "code",
      "source": [
        "!pip install node2vec"
      ],
      "metadata": {
        "execution": {
          "iopub.status.busy": "2024-05-07T15:31:29.302285Z",
          "iopub.execute_input": "2024-05-07T15:31:29.302618Z",
          "iopub.status.idle": "2024-05-07T15:31:44.549368Z",
          "shell.execute_reply.started": "2024-05-07T15:31:29.302589Z",
          "shell.execute_reply": "2024-05-07T15:31:44.548240Z"
        },
        "trusted": true,
        "id": "h6YNF5ThbGSm",
        "outputId": "666d410f-40a6-4f01-c264-b2d6182ac96d"
      },
      "execution_count": null,
      "outputs": [
        {
          "name": "stdout",
          "text": "Collecting node2vec\n  Downloading node2vec-0.4.6-py3-none-any.whl.metadata (743 bytes)\nRequirement already satisfied: gensim<5.0.0,>=4.1.2 in /opt/conda/lib/python3.10/site-packages (from node2vec) (4.3.2)\nRequirement already satisfied: joblib<2.0.0,>=1.1.0 in /opt/conda/lib/python3.10/site-packages (from node2vec) (1.4.0)\nCollecting networkx<3.0,>=2.5 (from node2vec)\n  Downloading networkx-2.8.8-py3-none-any.whl.metadata (5.1 kB)\nRequirement already satisfied: numpy<2.0.0,>=1.19.5 in /opt/conda/lib/python3.10/site-packages (from node2vec) (1.26.4)\nRequirement already satisfied: tqdm<5.0.0,>=4.55.1 in /opt/conda/lib/python3.10/site-packages (from node2vec) (4.66.1)\nRequirement already satisfied: scipy>=1.7.0 in /opt/conda/lib/python3.10/site-packages (from gensim<5.0.0,>=4.1.2->node2vec) (1.11.4)\nRequirement already satisfied: smart-open>=1.8.1 in /opt/conda/lib/python3.10/site-packages (from gensim<5.0.0,>=4.1.2->node2vec) (6.4.0)\nDownloading node2vec-0.4.6-py3-none-any.whl (7.0 kB)\nDownloading networkx-2.8.8-py3-none-any.whl (2.0 MB)\n\u001b[2K   \u001b[90m━━━━━━━━━━━━━━━━━━━━━━━━━━━━━━━━━━━━━━━━\u001b[0m \u001b[32m2.0/2.0 MB\u001b[0m \u001b[31m23.5 MB/s\u001b[0m eta \u001b[36m0:00:00\u001b[0m00:01\u001b[0m0:01\u001b[0m\n\u001b[?25hInstalling collected packages: networkx, node2vec\n  Attempting uninstall: networkx\n    Found existing installation: networkx 3.2.1\n    Uninstalling networkx-3.2.1:\n      Successfully uninstalled networkx-3.2.1\n\u001b[31mERROR: pip's dependency resolver does not currently take into account all the packages that are installed. This behaviour is the source of the following dependency conflicts.\nmomepy 0.7.0 requires shapely>=2, but you have shapely 1.8.5.post1 which is incompatible.\nosmnx 1.9.2 requires shapely>=2.0, but you have shapely 1.8.5.post1 which is incompatible.\nspopt 0.6.0 requires shapely>=2.0.1, but you have shapely 1.8.5.post1 which is incompatible.\nydata-profiling 4.6.4 requires numpy<1.26,>=1.16.0, but you have numpy 1.26.4 which is incompatible.\u001b[0m\u001b[31m\n\u001b[0mSuccessfully installed networkx-2.8.8 node2vec-0.4.6\n",
          "output_type": "stream"
        }
      ],
      "id": "h6YNF5ThbGSm"
    },
    {
      "cell_type": "code",
      "source": [
        "import numpy as np\n",
        "import pandas as pd\n",
        "from sklearn.cluster import KMeans\n",
        "from node2vec import Node2Vec\n",
        "import networkx as nx"
      ],
      "metadata": {
        "execution": {
          "iopub.status.busy": "2024-05-07T15:31:44.550804Z",
          "iopub.execute_input": "2024-05-07T15:31:44.551113Z",
          "iopub.status.idle": "2024-05-07T15:32:00.772804Z",
          "shell.execute_reply.started": "2024-05-07T15:31:44.551084Z",
          "shell.execute_reply": "2024-05-07T15:32:00.771803Z"
        },
        "trusted": true,
        "id": "6DxUp54DbGSn"
      },
      "execution_count": null,
      "outputs": [],
      "id": "6DxUp54DbGSn"
    },
    {
      "cell_type": "code",
      "source": [
        "G = nx.from_numpy_matrix(adjacency)"
      ],
      "metadata": {
        "execution": {
          "iopub.status.busy": "2024-05-07T15:32:00.774048Z",
          "iopub.execute_input": "2024-05-07T15:32:00.774643Z",
          "iopub.status.idle": "2024-05-07T15:32:00.913825Z",
          "shell.execute_reply.started": "2024-05-07T15:32:00.774614Z",
          "shell.execute_reply": "2024-05-07T15:32:00.911549Z"
        },
        "trusted": true,
        "id": "h4y15rNqbGSp",
        "outputId": "d9820a21-0fda-48bf-f74e-d8dba6b60f3c"
      },
      "execution_count": null,
      "outputs": [
        {
          "traceback": [
            "\u001b[0;31m---------------------------------------------------------------------------\u001b[0m",
            "\u001b[0;31mAttributeError\u001b[0m                            Traceback (most recent call last)",
            "\u001b[0;32m/tmp/ipykernel_34/4289156742.py\u001b[0m in \u001b[0;36m?\u001b[0;34m()\u001b[0m\n\u001b[0;32m----> 1\u001b[0;31m \u001b[0mG\u001b[0m \u001b[0;34m=\u001b[0m \u001b[0mnx\u001b[0m\u001b[0;34m.\u001b[0m\u001b[0mfrom_numpy_matrix\u001b[0m\u001b[0;34m(\u001b[0m\u001b[0madjacency\u001b[0m\u001b[0;34m)\u001b[0m\u001b[0;34m\u001b[0m\u001b[0;34m\u001b[0m\u001b[0m\n\u001b[0m",
            "\u001b[0;32m/opt/conda/lib/python3.10/site-packages/networkx/convert_matrix.py\u001b[0m in \u001b[0;36m?\u001b[0;34m(A, parallel_edges, create_using)\u001b[0m\n\u001b[1;32m    690\u001b[0m             \u001b[0;34m\"Use from_numpy_array instead, e.g. from_numpy_array(A, **kwargs)\"\u001b[0m\u001b[0;34m\u001b[0m\u001b[0;34m\u001b[0m\u001b[0m\n\u001b[1;32m    691\u001b[0m         ),\n\u001b[1;32m    692\u001b[0m         \u001b[0mDeprecationWarning\u001b[0m\u001b[0;34m,\u001b[0m\u001b[0;34m\u001b[0m\u001b[0;34m\u001b[0m\u001b[0m\n\u001b[1;32m    693\u001b[0m     )\n\u001b[0;32m--> 694\u001b[0;31m     \u001b[0;32mreturn\u001b[0m \u001b[0mfrom_numpy_array\u001b[0m\u001b[0;34m(\u001b[0m\u001b[0mA\u001b[0m\u001b[0;34m,\u001b[0m \u001b[0mparallel_edges\u001b[0m\u001b[0;34m=\u001b[0m\u001b[0mparallel_edges\u001b[0m\u001b[0;34m,\u001b[0m \u001b[0mcreate_using\u001b[0m\u001b[0;34m=\u001b[0m\u001b[0mcreate_using\u001b[0m\u001b[0;34m)\u001b[0m\u001b[0;34m\u001b[0m\u001b[0;34m\u001b[0m\u001b[0m\n\u001b[0m",
            "\u001b[0;32m/opt/conda/lib/python3.10/site-packages/networkx/convert_matrix.py\u001b[0m in \u001b[0;36m?\u001b[0;34m(A, parallel_edges, create_using)\u001b[0m\n\u001b[1;32m   1612\u001b[0m         \u001b[0;32mraise\u001b[0m \u001b[0mnx\u001b[0m\u001b[0;34m.\u001b[0m\u001b[0mNetworkXError\u001b[0m\u001b[0;34m(\u001b[0m\u001b[0;34mf\"Input array must be 2D, not {A.ndim}\"\u001b[0m\u001b[0;34m)\u001b[0m\u001b[0;34m\u001b[0m\u001b[0;34m\u001b[0m\u001b[0m\n\u001b[1;32m   1613\u001b[0m     \u001b[0mn\u001b[0m\u001b[0;34m,\u001b[0m \u001b[0mm\u001b[0m \u001b[0;34m=\u001b[0m \u001b[0mA\u001b[0m\u001b[0;34m.\u001b[0m\u001b[0mshape\u001b[0m\u001b[0;34m\u001b[0m\u001b[0;34m\u001b[0m\u001b[0m\n\u001b[1;32m   1614\u001b[0m     \u001b[0;32mif\u001b[0m \u001b[0mn\u001b[0m \u001b[0;34m!=\u001b[0m \u001b[0mm\u001b[0m\u001b[0;34m:\u001b[0m\u001b[0;34m\u001b[0m\u001b[0;34m\u001b[0m\u001b[0m\n\u001b[1;32m   1615\u001b[0m         \u001b[0;32mraise\u001b[0m \u001b[0mnx\u001b[0m\u001b[0;34m.\u001b[0m\u001b[0mNetworkXError\u001b[0m\u001b[0;34m(\u001b[0m\u001b[0;34mf\"Adjacency matrix not square: nx,ny={A.shape}\"\u001b[0m\u001b[0;34m)\u001b[0m\u001b[0;34m\u001b[0m\u001b[0;34m\u001b[0m\u001b[0m\n\u001b[0;32m-> 1616\u001b[0;31m     \u001b[0mdt\u001b[0m \u001b[0;34m=\u001b[0m \u001b[0mA\u001b[0m\u001b[0;34m.\u001b[0m\u001b[0mdtype\u001b[0m\u001b[0;34m\u001b[0m\u001b[0;34m\u001b[0m\u001b[0m\n\u001b[0m\u001b[1;32m   1617\u001b[0m     \u001b[0;32mtry\u001b[0m\u001b[0;34m:\u001b[0m\u001b[0;34m\u001b[0m\u001b[0;34m\u001b[0m\u001b[0m\n\u001b[1;32m   1618\u001b[0m         \u001b[0mpython_type\u001b[0m \u001b[0;34m=\u001b[0m \u001b[0mkind_to_python_type\u001b[0m\u001b[0;34m[\u001b[0m\u001b[0mdt\u001b[0m\u001b[0;34m.\u001b[0m\u001b[0mkind\u001b[0m\u001b[0;34m]\u001b[0m\u001b[0;34m\u001b[0m\u001b[0;34m\u001b[0m\u001b[0m\n\u001b[1;32m   1619\u001b[0m     \u001b[0;32mexcept\u001b[0m \u001b[0mException\u001b[0m \u001b[0;32mas\u001b[0m \u001b[0merr\u001b[0m\u001b[0;34m:\u001b[0m\u001b[0;34m\u001b[0m\u001b[0;34m\u001b[0m\u001b[0m\n",
            "\u001b[0;32m/opt/conda/lib/python3.10/site-packages/pandas/core/generic.py\u001b[0m in \u001b[0;36m?\u001b[0;34m(self, name)\u001b[0m\n\u001b[1;32m   6295\u001b[0m             \u001b[0;32mand\u001b[0m \u001b[0mname\u001b[0m \u001b[0;32mnot\u001b[0m \u001b[0;32min\u001b[0m \u001b[0mself\u001b[0m\u001b[0;34m.\u001b[0m\u001b[0m_accessors\u001b[0m\u001b[0;34m\u001b[0m\u001b[0;34m\u001b[0m\u001b[0m\n\u001b[1;32m   6296\u001b[0m             \u001b[0;32mand\u001b[0m \u001b[0mself\u001b[0m\u001b[0;34m.\u001b[0m\u001b[0m_info_axis\u001b[0m\u001b[0;34m.\u001b[0m\u001b[0m_can_hold_identifiers_and_holds_name\u001b[0m\u001b[0;34m(\u001b[0m\u001b[0mname\u001b[0m\u001b[0;34m)\u001b[0m\u001b[0;34m\u001b[0m\u001b[0;34m\u001b[0m\u001b[0m\n\u001b[1;32m   6297\u001b[0m         ):\n\u001b[1;32m   6298\u001b[0m             \u001b[0;32mreturn\u001b[0m \u001b[0mself\u001b[0m\u001b[0;34m[\u001b[0m\u001b[0mname\u001b[0m\u001b[0;34m]\u001b[0m\u001b[0;34m\u001b[0m\u001b[0;34m\u001b[0m\u001b[0m\n\u001b[0;32m-> 6299\u001b[0;31m         \u001b[0;32mreturn\u001b[0m \u001b[0mobject\u001b[0m\u001b[0;34m.\u001b[0m\u001b[0m__getattribute__\u001b[0m\u001b[0;34m(\u001b[0m\u001b[0mself\u001b[0m\u001b[0;34m,\u001b[0m \u001b[0mname\u001b[0m\u001b[0;34m)\u001b[0m\u001b[0;34m\u001b[0m\u001b[0;34m\u001b[0m\u001b[0m\n\u001b[0m",
            "\u001b[0;31mAttributeError\u001b[0m: 'DataFrame' object has no attribute 'dtype'"
          ],
          "ename": "AttributeError",
          "evalue": "'DataFrame' object has no attribute 'dtype'",
          "output_type": "error"
        }
      ],
      "id": "h4y15rNqbGSp"
    },
    {
      "cell_type": "code",
      "source": [
        "# Initialize node2vec\n",
        "node2vec = Node2Vec(G, dimensions=64, walk_length=30, num_walks=200, workers=1)"
      ],
      "metadata": {
        "execution": {
          "iopub.status.busy": "2024-05-07T15:32:00.914522Z",
          "iopub.status.idle": "2024-05-07T15:32:00.914844Z",
          "shell.execute_reply.started": "2024-05-07T15:32:00.914676Z",
          "shell.execute_reply": "2024-05-07T15:32:00.914689Z"
        },
        "trusted": true,
        "id": "9x7Iwxk-bGSq"
      },
      "execution_count": null,
      "outputs": [],
      "id": "9x7Iwxk-bGSq"
    },
    {
      "cell_type": "code",
      "source": [
        "# Generate embeddings\n",
        "model = node2vec.fit(window=10, min_count=1, batch_words=4)"
      ],
      "metadata": {
        "execution": {
          "iopub.status.busy": "2024-05-07T15:32:00.916097Z",
          "iopub.status.idle": "2024-05-07T15:32:00.916434Z",
          "shell.execute_reply.started": "2024-05-07T15:32:00.916261Z",
          "shell.execute_reply": "2024-05-07T15:32:00.916275Z"
        },
        "trusted": true,
        "id": "ZhiMk3mWbGSr"
      },
      "execution_count": null,
      "outputs": [],
      "id": "ZhiMk3mWbGSr"
    },
    {
      "cell_type": "code",
      "source": [
        "# Step 3: Concatenate embeddings with the feature DataFrame\n",
        "# Get embeddings for all nodes\n",
        "embeddings = np.array([model.wv[str(node)] for node in range(len(adjacency))])"
      ],
      "metadata": {
        "execution": {
          "iopub.status.busy": "2024-05-07T15:32:00.917440Z",
          "iopub.status.idle": "2024-05-07T15:32:00.917762Z",
          "shell.execute_reply.started": "2024-05-07T15:32:00.917602Z",
          "shell.execute_reply": "2024-05-07T15:32:00.917616Z"
        },
        "trusted": true,
        "id": "wppyw20PbGSs"
      },
      "execution_count": null,
      "outputs": [],
      "id": "wppyw20PbGSs"
    },
    {
      "cell_type": "code",
      "source": [
        "# Concatenate embeddings with features\n",
        "combined_features = np.concatenate((embeddings, attributes.values), axis=1)"
      ],
      "metadata": {
        "execution": {
          "iopub.status.busy": "2024-05-07T15:32:00.918922Z",
          "iopub.status.idle": "2024-05-07T15:32:00.919249Z",
          "shell.execute_reply.started": "2024-05-07T15:32:00.919089Z",
          "shell.execute_reply": "2024-05-07T15:32:00.919103Z"
        },
        "trusted": true,
        "id": "KTedMDFwbGSs"
      },
      "execution_count": null,
      "outputs": [],
      "id": "KTedMDFwbGSs"
    },
    {
      "cell_type": "code",
      "source": [
        "# Step 4: Apply K-Means clustering\n",
        "# Assuming num_clusters is the desired number of clusters\n",
        "num_clusters = 2\n",
        "\n",
        "# Initialize K-Means\n",
        "kmeans = KMeans(n_clusters=10, init=centroids, n_init=1)"
      ],
      "metadata": {
        "execution": {
          "iopub.status.busy": "2024-05-09T15:46:28.337058Z",
          "iopub.execute_input": "2024-05-09T15:46:28.337451Z",
          "iopub.status.idle": "2024-05-09T15:46:28.729371Z",
          "shell.execute_reply.started": "2024-05-09T15:46:28.337405Z",
          "shell.execute_reply": "2024-05-09T15:46:28.727533Z"
        },
        "trusted": true,
        "id": "zo_FVwmebGSu",
        "outputId": "3bcffe35-7fad-44c8-9231-34b047e066ac"
      },
      "execution_count": null,
      "outputs": [
        {
          "traceback": [
            "\u001b[0;31m---------------------------------------------------------------------------\u001b[0m",
            "\u001b[0;31mNameError\u001b[0m                                 Traceback (most recent call last)",
            "Cell \u001b[0;32mIn[1], line 6\u001b[0m\n\u001b[1;32m      3\u001b[0m num_clusters \u001b[38;5;241m=\u001b[39m \u001b[38;5;241m2\u001b[39m\n\u001b[1;32m      5\u001b[0m \u001b[38;5;66;03m# Initialize K-Means\u001b[39;00m\n\u001b[0;32m----> 6\u001b[0m kmeans \u001b[38;5;241m=\u001b[39m \u001b[43mKMeans\u001b[49m(n_clusters\u001b[38;5;241m=\u001b[39m\u001b[38;5;241m10\u001b[39m, init\u001b[38;5;241m=\u001b[39mcentroids, n_init\u001b[38;5;241m=\u001b[39m\u001b[38;5;241m1\u001b[39m)\n",
            "\u001b[0;31mNameError\u001b[0m: name 'KMeans' is not defined"
          ],
          "ename": "NameError",
          "evalue": "name 'KMeans' is not defined",
          "output_type": "error"
        }
      ],
      "id": "zo_FVwmebGSu"
    },
    {
      "cell_type": "code",
      "source": [
        "# Fit K-Means to the combined features\n",
        "cluster_labels = kmeans.fit_predict(combined_features)"
      ],
      "metadata": {
        "execution": {
          "iopub.status.busy": "2024-05-09T15:46:28.730397Z",
          "iopub.status.idle": "2024-05-09T15:46:28.730850Z",
          "shell.execute_reply.started": "2024-05-09T15:46:28.730652Z",
          "shell.execute_reply": "2024-05-09T15:46:28.730669Z"
        },
        "trusted": true,
        "id": "4sN2QGvEbGSv"
      },
      "execution_count": null,
      "outputs": [],
      "id": "4sN2QGvEbGSv"
    },
    {
      "cell_type": "code",
      "source": [
        "G.nodes()"
      ],
      "metadata": {
        "execution": {
          "iopub.status.busy": "2024-05-09T15:46:28.732322Z",
          "iopub.status.idle": "2024-05-09T15:46:28.732755Z",
          "shell.execute_reply.started": "2024-05-09T15:46:28.732555Z",
          "shell.execute_reply": "2024-05-09T15:46:28.732571Z"
        },
        "trusted": true,
        "id": "fp5dSQANbGSw"
      },
      "execution_count": null,
      "outputs": [],
      "id": "fp5dSQANbGSw"
    },
    {
      "cell_type": "code",
      "source": [
        "subset_nodes = list(G.nodes())[:15]  # Choose the first 100 nodes as an example\n",
        "subgraph = G.subgraph(subset_nodes)\n",
        "\n",
        "# Draw the subgraph\n",
        "plt.figure(figsize=(20, 20))\n",
        "nx.draw(subgraph, with_labels=True, node_size=50, node_color='skyblue', font_size=8)\n",
        "plt.title(\"Subgraph Visualization\")\n",
        "plt.show()"
      ],
      "metadata": {
        "execution": {
          "iopub.status.busy": "2024-05-09T15:46:28.733930Z",
          "iopub.status.idle": "2024-05-09T15:46:28.734281Z",
          "shell.execute_reply.started": "2024-05-09T15:46:28.734104Z",
          "shell.execute_reply": "2024-05-09T15:46:28.734119Z"
        },
        "trusted": true,
        "id": "GgknpDvLbGSx"
      },
      "execution_count": null,
      "outputs": [],
      "id": "GgknpDvLbGSx"
    },
    {
      "cell_type": "code",
      "source": [
        "# Save the graph as a GraphML file\n",
        "nx.write_graphml(G, \"graph.graphml\")\n"
      ],
      "metadata": {
        "execution": {
          "iopub.status.busy": "2024-05-09T15:46:28.735795Z",
          "iopub.status.idle": "2024-05-09T15:46:28.736157Z",
          "shell.execute_reply.started": "2024-05-09T15:46:28.735978Z",
          "shell.execute_reply": "2024-05-09T15:46:28.735994Z"
        },
        "trusted": true,
        "id": "ijQ4MvMbbGSx"
      },
      "execution_count": null,
      "outputs": [],
      "id": "ijQ4MvMbbGSx"
    },
    {
      "cell_type": "code",
      "source": [],
      "metadata": {
        "id": "i1A3zBEobGSy"
      },
      "execution_count": null,
      "outputs": [],
      "id": "i1A3zBEobGSy"
    },
    {
      "cell_type": "code",
      "source": [],
      "metadata": {
        "id": "cVS0cOeybGSz"
      },
      "execution_count": null,
      "outputs": [],
      "id": "cVS0cOeybGSz"
    },
    {
      "cell_type": "code",
      "source": [],
      "metadata": {
        "id": "ZerfZTztbGSz"
      },
      "execution_count": null,
      "outputs": [],
      "id": "ZerfZTztbGSz"
    }
  ]
}